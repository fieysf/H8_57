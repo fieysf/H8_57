{
 "cells": [
  {
   "cell_type": "markdown",
   "id": "faf488d2",
   "metadata": {},
   "source": [
    "kita membuat 2 fungsi, dimana fungsi pertama adalah untuk mengecek input itu adalah suatu angka bukan huruf dan apakah angka itu dapat dibagi 2, hasil dari fungsi tersebut adalah true atau false\n",
    "fungsi yg kedua adalah apabila hasil dari fungsi pertama itu adalah true, maka kita akan mempangkatkan angka tersebut dengan pangkat yang kita inginkan, dan apabila false maka keluar kata2: \"input bukan angka\" atau \"input tidak bisa dibagi 2\"\n",
    "\n",
    "contoh:\n",
    "input: 10\n",
    "pangkat: 3\n",
    "maka hasil dari fungsi kedua nya: 100\n",
    "\n",
    "input: 5\n",
    "pangkat: 2\n",
    "maka hasil dari fungsi kedua nya: \"input tidak bisa dibagi 2\"\n",
    "\n",
    "input: halo\n",
    "pangkat: 2\n",
    "maka hasil dari fungsi kedua nya: \"input bukan angka\""
   ]
  },
  {
   "cell_type": "code",
   "execution_count": 28,
   "id": "f942044a",
   "metadata": {},
   "outputs": [],
   "source": [
    "def function_pertama(angka_1):\n",
    "    if angka_1.isnumeric():\n",
    "        if int(angka_1) %2 ==0:\n",
    "            return True\n",
    "        else:\n",
    "            hasil = \"Input bukan numeric\"\n",
    "            return hasil\n",
    "    else:\n",
    "        hasil = \"Input tidak bisa dibagi 2\"\n",
    "        return hasil\n",
    "\n",
    "def function_kedua(hasil_function_pertama,pangkat,angka_1):\n",
    "    if hasil_function_pertama == True:\n",
    "        angka_1 = int(angka_1)\n",
    "        hasil_function_kedua = hasil_function_pertama**pangkat\n",
    "        return hasil_function_kedua\n",
    "    else:\n",
    "        hasil_function_kedua = hasil_function_pertama\n",
    "        return hasil"
   ]
  },
  {
   "cell_type": "code",
   "execution_count": 29,
   "id": "813334f0",
   "metadata": {},
   "outputs": [
    {
     "name": "stdout",
     "output_type": "stream",
     "text": [
      "Silahkan input Angka : 18\n",
      "Silahkan input Pangkat : 2\n",
      "1\n"
     ]
    }
   ],
   "source": [
    "angka_1 = (input (\"Silahkan input Angka : \"))\n",
    "pangkat = int(input(\"Silahkan input Pangkat : \"))\n",
    "\n",
    "hasil_function_pertama = function_pertama(angka_1)\n",
    "hasil_function_kedua = function_kedua(hasil_function_pertama,pangkat,angka_1)\n",
    "print(hasil_function_kedua)"
   ]
  },
  {
   "cell_type": "code",
   "execution_count": 25,
   "id": "16697031",
   "metadata": {},
   "outputs": [],
   "source": [
    "def function_pertama(angka_1):\n",
    "    if angka_1.isnumeric():\n",
    "        if int(angka_1) %2 ==0:\n",
    "            return True\n",
    "        else:\n",
    "            hasil = \"Input bukan numeric\"\n",
    "            return hasil\n",
    "    else:\n",
    "        hasil = \"Input tidak bisa dibagi 2\"\n",
    "        return hasil"
   ]
  },
  {
   "cell_type": "code",
   "execution_count": 27,
   "id": "792d820a",
   "metadata": {},
   "outputs": [
    {
     "name": "stdout",
     "output_type": "stream",
     "text": [
      "Silahkan input Angka : 20\n",
      "True\n"
     ]
    }
   ],
   "source": [
    "angka_1 = (input (\"Silahkan input Angka : \"))\n",
    "\n",
    "hasil_function_pertama = function_pertama(angka_1)\n",
    "print(hasil_function_pertama)"
   ]
  },
  {
   "cell_type": "code",
   "execution_count": null,
   "id": "a622e921",
   "metadata": {},
   "outputs": [],
   "source": []
  }
 ],
 "metadata": {
  "kernelspec": {
   "display_name": "Python 3",
   "language": "python",
   "name": "python3"
  },
  "language_info": {
   "codemirror_mode": {
    "name": "ipython",
    "version": 3
   },
   "file_extension": ".py",
   "mimetype": "text/x-python",
   "name": "python",
   "nbconvert_exporter": "python",
   "pygments_lexer": "ipython3",
   "version": "3.8.8"
  }
 },
 "nbformat": 4,
 "nbformat_minor": 5
}
