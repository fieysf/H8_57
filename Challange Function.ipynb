{
 "cells": [
  {
   "cell_type": "markdown",
   "id": "8d8f7a38",
   "metadata": {},
   "source": [
    "case: \n",
    "kita membutuhkan fungsi untuk menghitung perkalian dari item2 di list A, kemudian hasil dari perkalian tersebut dikalikan ke setiap item di list B\n",
    "contoh:\n",
    "list_a = [1,2,3,4]\n",
    "list_b = [4,5,6,7]\n",
    "maka hasil dari fungsi: [96,120,144,168]"
   ]
  },
  {
   "cell_type": "code",
   "execution_count": 22,
   "id": "299a496e",
   "metadata": {},
   "outputs": [],
   "source": [
    "def perkalian_a (list_a,list_b):\n",
    "    hasil_perkalian = 1\n",
    "    for x in list_a:\n",
    "        hasil_perkalian = hasil_perkalian*x\n",
    "    print(hasil_perkalian)"
   ]
  },
  {
   "cell_type": "code",
   "execution_count": 26,
   "id": "e98aaba3",
   "metadata": {},
   "outputs": [
    {
     "name": "stdout",
     "output_type": "stream",
     "text": [
      "24\n"
     ]
    }
   ],
   "source": [
    "perkalian_a ([1,2,3,4],[5,6,7,8])"
   ]
  },
  {
   "cell_type": "code",
   "execution_count": 31,
   "id": "97385682",
   "metadata": {},
   "outputs": [],
   "source": [
    "def perkalian_a (list_a,list_b):\n",
    "    hasil_perkalian = 1\n",
    "    for x in list_a:\n",
    "        hasil_perkalian = hasil_perkalian*x\n",
    "    hasil_total = []\n",
    "    for y in list_b:\n",
    "        hasil_total = hasil_total+[y*hasil_perkalian]\n",
    "    return hasil_total, hasil_perkalian"
   ]
  },
  {
   "cell_type": "code",
   "execution_count": 32,
   "id": "c4457177",
   "metadata": {},
   "outputs": [
    {
     "data": {
      "text/plain": [
       "([96, 120, 144, 168], 24)"
      ]
     },
     "execution_count": 32,
     "metadata": {},
     "output_type": "execute_result"
    }
   ],
   "source": [
    "perkalian_a([1,2,3,4],[4,5,6,7])"
   ]
  },
  {
   "cell_type": "code",
   "execution_count": null,
   "id": "e575b89f",
   "metadata": {},
   "outputs": [],
   "source": []
  }
 ],
 "metadata": {
  "kernelspec": {
   "display_name": "Python 3",
   "language": "python",
   "name": "python3"
  },
  "language_info": {
   "codemirror_mode": {
    "name": "ipython",
    "version": 3
   },
   "file_extension": ".py",
   "mimetype": "text/x-python",
   "name": "python",
   "nbconvert_exporter": "python",
   "pygments_lexer": "ipython3",
   "version": "3.8.8"
  }
 },
 "nbformat": 4,
 "nbformat_minor": 5
}
