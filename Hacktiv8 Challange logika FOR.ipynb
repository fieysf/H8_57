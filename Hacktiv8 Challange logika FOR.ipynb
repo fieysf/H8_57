{
 "cells": [
  {
   "cell_type": "code",
   "execution_count": 1,
   "id": "67c63357",
   "metadata": {},
   "outputs": [
    {
     "name": "stdout",
     "output_type": "stream",
     "text": [
      "Masukan Nama Anda : fie\n",
      "fie\n",
      "fie\n",
      "fie\n",
      "fie\n"
     ]
    }
   ],
   "source": [
    "nama = input('Masukan Nama Anda : ')\n",
    "list_1 = [1, 2, 3, 4]\n",
    "list_2 = [1, 2, 3, 6]\n",
    "\n",
    "if (list_1 == list_2):\n",
    "    print (list_1)\n",
    "else:\n",
    "    for n in list_1:\n",
    "        print (nama)"
   ]
  },
  {
   "cell_type": "code",
   "execution_count": null,
   "id": "f11b692e",
   "metadata": {},
   "outputs": [],
   "source": []
  }
 ],
 "metadata": {
  "kernelspec": {
   "display_name": "Python 3",
   "language": "python",
   "name": "python3"
  },
  "language_info": {
   "codemirror_mode": {
    "name": "ipython",
    "version": 3
   },
   "file_extension": ".py",
   "mimetype": "text/x-python",
   "name": "python",
   "nbconvert_exporter": "python",
   "pygments_lexer": "ipython3",
   "version": "3.8.8"
  }
 },
 "nbformat": 4,
 "nbformat_minor": 5
}
