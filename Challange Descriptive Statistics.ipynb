{
 "cells": [
  {
   "cell_type": "code",
   "execution_count": 2,
   "id": "834b2e1f",
   "metadata": {},
   "outputs": [
    {
     "data": {
      "text/html": [
       "<div>\n",
       "<style scoped>\n",
       "    .dataframe tbody tr th:only-of-type {\n",
       "        vertical-align: middle;\n",
       "    }\n",
       "\n",
       "    .dataframe tbody tr th {\n",
       "        vertical-align: top;\n",
       "    }\n",
       "\n",
       "    .dataframe thead th {\n",
       "        text-align: right;\n",
       "    }\n",
       "</style>\n",
       "<table border=\"1\" class=\"dataframe\">\n",
       "  <thead>\n",
       "    <tr style=\"text-align: right;\">\n",
       "      <th></th>\n",
       "      <th>school</th>\n",
       "      <th>sex</th>\n",
       "      <th>age</th>\n",
       "      <th>address</th>\n",
       "      <th>famsize</th>\n",
       "      <th>Pstatus</th>\n",
       "      <th>Medu</th>\n",
       "      <th>Fedu</th>\n",
       "      <th>Mjob</th>\n",
       "      <th>Fjob</th>\n",
       "      <th>...</th>\n",
       "      <th>famrel</th>\n",
       "      <th>freetime</th>\n",
       "      <th>goout</th>\n",
       "      <th>Dalc</th>\n",
       "      <th>Walc</th>\n",
       "      <th>health</th>\n",
       "      <th>absences</th>\n",
       "      <th>G1</th>\n",
       "      <th>G2</th>\n",
       "      <th>G3</th>\n",
       "    </tr>\n",
       "  </thead>\n",
       "  <tbody>\n",
       "    <tr>\n",
       "      <th>0</th>\n",
       "      <td>GP</td>\n",
       "      <td>F</td>\n",
       "      <td>18</td>\n",
       "      <td>U</td>\n",
       "      <td>GT3</td>\n",
       "      <td>A</td>\n",
       "      <td>4</td>\n",
       "      <td>4</td>\n",
       "      <td>at_home</td>\n",
       "      <td>teacher</td>\n",
       "      <td>...</td>\n",
       "      <td>4</td>\n",
       "      <td>3</td>\n",
       "      <td>4</td>\n",
       "      <td>1</td>\n",
       "      <td>1</td>\n",
       "      <td>3</td>\n",
       "      <td>6</td>\n",
       "      <td>5</td>\n",
       "      <td>6</td>\n",
       "      <td>6</td>\n",
       "    </tr>\n",
       "    <tr>\n",
       "      <th>1</th>\n",
       "      <td>GP</td>\n",
       "      <td>F</td>\n",
       "      <td>17</td>\n",
       "      <td>U</td>\n",
       "      <td>GT3</td>\n",
       "      <td>T</td>\n",
       "      <td>1</td>\n",
       "      <td>1</td>\n",
       "      <td>at_home</td>\n",
       "      <td>other</td>\n",
       "      <td>...</td>\n",
       "      <td>5</td>\n",
       "      <td>3</td>\n",
       "      <td>3</td>\n",
       "      <td>1</td>\n",
       "      <td>1</td>\n",
       "      <td>3</td>\n",
       "      <td>4</td>\n",
       "      <td>5</td>\n",
       "      <td>5</td>\n",
       "      <td>6</td>\n",
       "    </tr>\n",
       "    <tr>\n",
       "      <th>2</th>\n",
       "      <td>GP</td>\n",
       "      <td>F</td>\n",
       "      <td>15</td>\n",
       "      <td>U</td>\n",
       "      <td>LE3</td>\n",
       "      <td>T</td>\n",
       "      <td>1</td>\n",
       "      <td>1</td>\n",
       "      <td>at_home</td>\n",
       "      <td>other</td>\n",
       "      <td>...</td>\n",
       "      <td>4</td>\n",
       "      <td>3</td>\n",
       "      <td>2</td>\n",
       "      <td>2</td>\n",
       "      <td>3</td>\n",
       "      <td>3</td>\n",
       "      <td>10</td>\n",
       "      <td>7</td>\n",
       "      <td>8</td>\n",
       "      <td>10</td>\n",
       "    </tr>\n",
       "    <tr>\n",
       "      <th>3</th>\n",
       "      <td>GP</td>\n",
       "      <td>F</td>\n",
       "      <td>15</td>\n",
       "      <td>U</td>\n",
       "      <td>GT3</td>\n",
       "      <td>T</td>\n",
       "      <td>4</td>\n",
       "      <td>2</td>\n",
       "      <td>health</td>\n",
       "      <td>services</td>\n",
       "      <td>...</td>\n",
       "      <td>3</td>\n",
       "      <td>2</td>\n",
       "      <td>2</td>\n",
       "      <td>1</td>\n",
       "      <td>1</td>\n",
       "      <td>5</td>\n",
       "      <td>2</td>\n",
       "      <td>15</td>\n",
       "      <td>14</td>\n",
       "      <td>15</td>\n",
       "    </tr>\n",
       "    <tr>\n",
       "      <th>4</th>\n",
       "      <td>GP</td>\n",
       "      <td>F</td>\n",
       "      <td>16</td>\n",
       "      <td>U</td>\n",
       "      <td>GT3</td>\n",
       "      <td>T</td>\n",
       "      <td>3</td>\n",
       "      <td>3</td>\n",
       "      <td>other</td>\n",
       "      <td>other</td>\n",
       "      <td>...</td>\n",
       "      <td>4</td>\n",
       "      <td>3</td>\n",
       "      <td>2</td>\n",
       "      <td>1</td>\n",
       "      <td>2</td>\n",
       "      <td>5</td>\n",
       "      <td>4</td>\n",
       "      <td>6</td>\n",
       "      <td>10</td>\n",
       "      <td>10</td>\n",
       "    </tr>\n",
       "    <tr>\n",
       "      <th>...</th>\n",
       "      <td>...</td>\n",
       "      <td>...</td>\n",
       "      <td>...</td>\n",
       "      <td>...</td>\n",
       "      <td>...</td>\n",
       "      <td>...</td>\n",
       "      <td>...</td>\n",
       "      <td>...</td>\n",
       "      <td>...</td>\n",
       "      <td>...</td>\n",
       "      <td>...</td>\n",
       "      <td>...</td>\n",
       "      <td>...</td>\n",
       "      <td>...</td>\n",
       "      <td>...</td>\n",
       "      <td>...</td>\n",
       "      <td>...</td>\n",
       "      <td>...</td>\n",
       "      <td>...</td>\n",
       "      <td>...</td>\n",
       "      <td>...</td>\n",
       "    </tr>\n",
       "    <tr>\n",
       "      <th>390</th>\n",
       "      <td>MS</td>\n",
       "      <td>M</td>\n",
       "      <td>20</td>\n",
       "      <td>U</td>\n",
       "      <td>LE3</td>\n",
       "      <td>A</td>\n",
       "      <td>2</td>\n",
       "      <td>2</td>\n",
       "      <td>services</td>\n",
       "      <td>services</td>\n",
       "      <td>...</td>\n",
       "      <td>5</td>\n",
       "      <td>5</td>\n",
       "      <td>4</td>\n",
       "      <td>4</td>\n",
       "      <td>5</td>\n",
       "      <td>4</td>\n",
       "      <td>11</td>\n",
       "      <td>9</td>\n",
       "      <td>9</td>\n",
       "      <td>9</td>\n",
       "    </tr>\n",
       "    <tr>\n",
       "      <th>391</th>\n",
       "      <td>MS</td>\n",
       "      <td>M</td>\n",
       "      <td>17</td>\n",
       "      <td>U</td>\n",
       "      <td>LE3</td>\n",
       "      <td>T</td>\n",
       "      <td>3</td>\n",
       "      <td>1</td>\n",
       "      <td>services</td>\n",
       "      <td>services</td>\n",
       "      <td>...</td>\n",
       "      <td>2</td>\n",
       "      <td>4</td>\n",
       "      <td>5</td>\n",
       "      <td>3</td>\n",
       "      <td>4</td>\n",
       "      <td>2</td>\n",
       "      <td>3</td>\n",
       "      <td>14</td>\n",
       "      <td>16</td>\n",
       "      <td>16</td>\n",
       "    </tr>\n",
       "    <tr>\n",
       "      <th>392</th>\n",
       "      <td>MS</td>\n",
       "      <td>M</td>\n",
       "      <td>21</td>\n",
       "      <td>R</td>\n",
       "      <td>GT3</td>\n",
       "      <td>T</td>\n",
       "      <td>1</td>\n",
       "      <td>1</td>\n",
       "      <td>other</td>\n",
       "      <td>other</td>\n",
       "      <td>...</td>\n",
       "      <td>5</td>\n",
       "      <td>5</td>\n",
       "      <td>3</td>\n",
       "      <td>3</td>\n",
       "      <td>3</td>\n",
       "      <td>3</td>\n",
       "      <td>3</td>\n",
       "      <td>10</td>\n",
       "      <td>8</td>\n",
       "      <td>7</td>\n",
       "    </tr>\n",
       "    <tr>\n",
       "      <th>393</th>\n",
       "      <td>MS</td>\n",
       "      <td>M</td>\n",
       "      <td>18</td>\n",
       "      <td>R</td>\n",
       "      <td>LE3</td>\n",
       "      <td>T</td>\n",
       "      <td>3</td>\n",
       "      <td>2</td>\n",
       "      <td>services</td>\n",
       "      <td>other</td>\n",
       "      <td>...</td>\n",
       "      <td>4</td>\n",
       "      <td>4</td>\n",
       "      <td>1</td>\n",
       "      <td>3</td>\n",
       "      <td>4</td>\n",
       "      <td>5</td>\n",
       "      <td>0</td>\n",
       "      <td>11</td>\n",
       "      <td>12</td>\n",
       "      <td>10</td>\n",
       "    </tr>\n",
       "    <tr>\n",
       "      <th>394</th>\n",
       "      <td>MS</td>\n",
       "      <td>M</td>\n",
       "      <td>19</td>\n",
       "      <td>U</td>\n",
       "      <td>LE3</td>\n",
       "      <td>T</td>\n",
       "      <td>1</td>\n",
       "      <td>1</td>\n",
       "      <td>other</td>\n",
       "      <td>at_home</td>\n",
       "      <td>...</td>\n",
       "      <td>3</td>\n",
       "      <td>2</td>\n",
       "      <td>3</td>\n",
       "      <td>3</td>\n",
       "      <td>3</td>\n",
       "      <td>5</td>\n",
       "      <td>5</td>\n",
       "      <td>8</td>\n",
       "      <td>9</td>\n",
       "      <td>9</td>\n",
       "    </tr>\n",
       "  </tbody>\n",
       "</table>\n",
       "<p>395 rows × 33 columns</p>\n",
       "</div>"
      ],
      "text/plain": [
       "    school sex  age address famsize Pstatus  Medu  Fedu      Mjob      Fjob  \\\n",
       "0       GP   F   18       U     GT3       A     4     4   at_home   teacher   \n",
       "1       GP   F   17       U     GT3       T     1     1   at_home     other   \n",
       "2       GP   F   15       U     LE3       T     1     1   at_home     other   \n",
       "3       GP   F   15       U     GT3       T     4     2    health  services   \n",
       "4       GP   F   16       U     GT3       T     3     3     other     other   \n",
       "..     ...  ..  ...     ...     ...     ...   ...   ...       ...       ...   \n",
       "390     MS   M   20       U     LE3       A     2     2  services  services   \n",
       "391     MS   M   17       U     LE3       T     3     1  services  services   \n",
       "392     MS   M   21       R     GT3       T     1     1     other     other   \n",
       "393     MS   M   18       R     LE3       T     3     2  services     other   \n",
       "394     MS   M   19       U     LE3       T     1     1     other   at_home   \n",
       "\n",
       "     ... famrel freetime  goout  Dalc  Walc health absences  G1  G2  G3  \n",
       "0    ...      4        3      4     1     1      3        6   5   6   6  \n",
       "1    ...      5        3      3     1     1      3        4   5   5   6  \n",
       "2    ...      4        3      2     2     3      3       10   7   8  10  \n",
       "3    ...      3        2      2     1     1      5        2  15  14  15  \n",
       "4    ...      4        3      2     1     2      5        4   6  10  10  \n",
       "..   ...    ...      ...    ...   ...   ...    ...      ...  ..  ..  ..  \n",
       "390  ...      5        5      4     4     5      4       11   9   9   9  \n",
       "391  ...      2        4      5     3     4      2        3  14  16  16  \n",
       "392  ...      5        5      3     3     3      3        3  10   8   7  \n",
       "393  ...      4        4      1     3     4      5        0  11  12  10  \n",
       "394  ...      3        2      3     3     3      5        5   8   9   9  \n",
       "\n",
       "[395 rows x 33 columns]"
      ]
     },
     "execution_count": 2,
     "metadata": {},
     "output_type": "execute_result"
    }
   ],
   "source": [
    "import numpy as np\n",
    "import pandas as pd\n",
    "student_mat = pd.read_csv('Downloads/student-mat.csv')\n",
    "student_mat"
   ]
  },
  {
   "cell_type": "code",
   "execution_count": 28,
   "id": "f181a732",
   "metadata": {},
   "outputs": [
    {
     "data": {
      "text/plain": [
       "10.90886075949367"
      ]
     },
     "execution_count": 28,
     "metadata": {},
     "output_type": "execute_result"
    }
   ],
   "source": [
    "student_mat['G1'].mean()"
   ]
  },
  {
   "cell_type": "code",
   "execution_count": 29,
   "id": "ec1e9952",
   "metadata": {},
   "outputs": [
    {
     "data": {
      "text/plain": [
       "9.6"
      ]
     },
     "execution_count": 29,
     "metadata": {},
     "output_type": "execute_result"
    }
   ],
   "source": [
    "data_for_weighted_mean = student_mat['G1'][:4]\n",
    "weight = np.array([1,2,3,4])\n",
    "np.average(data_for_weighted_mean,weights=weight)"
   ]
  },
  {
   "cell_type": "code",
   "execution_count": 30,
   "id": "6a45ec3d",
   "metadata": {},
   "outputs": [
    {
     "data": {
      "text/plain": [
       "array([ 5,  5,  7, 15,  6, 15, 12,  6, 16, 14, 10, 10, 14, 10, 14, 14, 13,\n",
       "        8,  6,  8, 13, 12, 15, 13, 10,  6, 12, 15, 11, 10,  9, 17, 17,  8,\n",
       "       12,  8, 15, 15, 12, 14,  7, 12, 19,  8, 10,  8, 11, 19, 15,  7, 12,\n",
       "       11, 11,  8, 10,  8, 14, 14,  9, 15, 10, 10,  8, 10, 10, 16, 13,  7,\n",
       "        8, 16, 13, 10,  8, 12, 11,  9, 11, 11,  8,  5, 10, 11,  7, 15,  9,\n",
       "        7,  8, 13, 11,  8,  7, 16,  7, 11, 11,  7, 11,  8, 11,  7,  7, 16,\n",
       "       10,  7, 16, 10,  7, 16, 10, 14, 18,  7, 10, 18,  9, 15, 11, 13,  9,\n",
       "       14, 16, 16, 13, 14,  8, 13,  7,  7,  7, 18, 12,  8, 10, 12,  9, 11,\n",
       "       10,  4, 14, 16,  7,  9,  9, 14,  5,  8,  6, 10,  7,  8,  6, 12, 10,\n",
       "        5, 11, 11, 16,  9, 17, 10,  7,  5,  7, 10,  5, 12, 10, 14,  6, 14,\n",
       "        6, 13, 13,  8, 10, 10, 13,  6, 10, 10,  9, 12, 16,  9, 12, 12, 11,\n",
       "       15,  8,  8, 11,  8,  7,  8, 13, 14, 17,  9, 18,  9, 16,  8,  9,  7,\n",
       "       10, 10,  7, 11,  9,  7,  8, 12, 12,  6,  8, 14,  6,  6,  7,  9,  6,\n",
       "        6, 16, 12, 13,  9, 16, 12, 10, 12, 13, 11, 11, 14,  9, 11, 14, 13,\n",
       "       13,  7, 12, 10,  6, 13,  7, 18, 12,  6,  3, 13,  6,  7,  6,  8,  8,\n",
       "        7, 14, 11, 15, 10, 17,  8, 13, 10,  9, 17,  9, 12, 10,  6,  9, 15,\n",
       "       11, 15, 10, 12, 10,  9,  9, 10,  8, 11, 12,  8, 10, 12, 18, 13, 15,\n",
       "       15, 12, 15, 12, 18, 14, 14, 10, 10, 14, 16, 12, 11, 15, 17, 15, 14,\n",
       "       17,  8, 15, 12,  9, 14, 13, 13, 15, 13,  8,  9, 11, 11, 13, 11, 11,\n",
       "       12, 16,  9, 14, 11, 10, 14,  9, 12,  7,  8, 10, 16, 14,  7, 16,  9,\n",
       "       11, 10, 16,  9, 11, 13, 16, 10, 13, 11,  8, 13,  8,  8, 13, 10, 12,\n",
       "       12, 10, 18, 13, 13, 11, 16, 12, 10, 13,  7, 11, 14,  7, 14, 13,  6,\n",
       "       19,  8, 15,  8, 15, 10, 15,  7, 11,  6,  6, 10,  6,  7,  7,  6,  9,\n",
       "       14, 10, 11,  8])"
      ]
     },
     "execution_count": 30,
     "metadata": {},
     "output_type": "execute_result"
    }
   ],
   "source": [
    "filter_data = student_mat['G1'] > 0\n",
    "student_mat['G1'][filter_data].values"
   ]
  },
  {
   "cell_type": "code",
   "execution_count": 31,
   "id": "2c9c89ae",
   "metadata": {},
   "outputs": [
    {
     "data": {
      "text/plain": [
       "9.843044709514144"
      ]
     },
     "execution_count": 31,
     "metadata": {},
     "output_type": "execute_result"
    }
   ],
   "source": [
    "import statistics\n",
    "statistics.harmonic_mean(student_mat['G1'][filter_data])"
   ]
  },
  {
   "cell_type": "code",
   "execution_count": 32,
   "id": "40a4c616",
   "metadata": {},
   "outputs": [
    {
     "data": {
      "text/plain": [
       "10.38574828731929"
      ]
     },
     "execution_count": 32,
     "metadata": {},
     "output_type": "execute_result"
    }
   ],
   "source": [
    "import scipy.stats as stats\n",
    "stats.gmean(student_mat['G1'][filter_data])"
   ]
  },
  {
   "cell_type": "code",
   "execution_count": 33,
   "id": "ad656940",
   "metadata": {},
   "outputs": [
    {
     "data": {
      "text/plain": [
       "11.0"
      ]
     },
     "execution_count": 33,
     "metadata": {},
     "output_type": "execute_result"
    }
   ],
   "source": [
    "student_mat['G1'].median()"
   ]
  },
  {
   "cell_type": "code",
   "execution_count": 34,
   "id": "ea273484",
   "metadata": {},
   "outputs": [
    {
     "data": {
      "text/plain": [
       "0    10\n",
       "dtype: int64"
      ]
     },
     "execution_count": 34,
     "metadata": {},
     "output_type": "execute_result"
    }
   ],
   "source": [
    "student_mat['G1'].mode()"
   ]
  },
  {
   "cell_type": "code",
   "execution_count": 35,
   "id": "f4de5bd5",
   "metadata": {
    "scrolled": true
   },
   "outputs": [
    {
     "data": {
      "text/plain": [
       "11.017053267364904"
      ]
     },
     "execution_count": 35,
     "metadata": {},
     "output_type": "execute_result"
    }
   ],
   "source": [
    "statistics.variance(student_mat['G1'])"
   ]
  },
  {
   "cell_type": "code",
   "execution_count": 36,
   "id": "a9b39461",
   "metadata": {},
   "outputs": [
    {
     "data": {
      "text/plain": [
       "3.319194671507669"
      ]
     },
     "execution_count": 36,
     "metadata": {},
     "output_type": "execute_result"
    }
   ],
   "source": [
    "statistics.variance(student_mat['G1'])**0.5"
   ]
  },
  {
   "cell_type": "code",
   "execution_count": 37,
   "id": "d8aaaf28",
   "metadata": {},
   "outputs": [
    {
     "data": {
      "text/plain": [
       "0.24061324337096948"
      ]
     },
     "execution_count": 37,
     "metadata": {},
     "output_type": "execute_result"
    }
   ],
   "source": [
    "student_mat['G1'].skew()"
   ]
  },
  {
   "cell_type": "code",
   "execution_count": 38,
   "id": "d876a50c",
   "metadata": {},
   "outputs": [
    {
     "data": {
      "text/plain": [
       "0.25     8.0\n",
       "0.50    11.0\n",
       "0.75    13.0\n",
       "Name: G1, dtype: float64"
      ]
     },
     "execution_count": 38,
     "metadata": {},
     "output_type": "execute_result"
    }
   ],
   "source": [
    "student_mat['G1'].quantile([0.25,0.5,0.75])"
   ]
  },
  {
   "cell_type": "code",
   "execution_count": 39,
   "id": "d173f13b",
   "metadata": {},
   "outputs": [
    {
     "data": {
      "text/plain": [
       "count    395.000000\n",
       "mean      10.908861\n",
       "std        3.319195\n",
       "min        3.000000\n",
       "25%        8.000000\n",
       "50%       11.000000\n",
       "75%       13.000000\n",
       "max       19.000000\n",
       "Name: G1, dtype: float64"
      ]
     },
     "execution_count": 39,
     "metadata": {},
     "output_type": "execute_result"
    }
   ],
   "source": [
    "student_mat['G1'].describe()"
   ]
  },
  {
   "cell_type": "code",
   "execution_count": 62,
   "id": "57872d81",
   "metadata": {},
   "outputs": [
    {
     "data": {
      "text/plain": [
       "count    395.000000\n",
       "mean      10.713924\n",
       "std        3.761505\n",
       "min        0.000000\n",
       "25%        9.000000\n",
       "50%       11.000000\n",
       "75%       13.000000\n",
       "max       19.000000\n",
       "Name: G2, dtype: float64"
      ]
     },
     "execution_count": 62,
     "metadata": {},
     "output_type": "execute_result"
    }
   ],
   "source": [
    "student_mat['G2'].describe()"
   ]
  },
  {
   "cell_type": "code",
   "execution_count": 63,
   "id": "204e38ca",
   "metadata": {},
   "outputs": [
    {
     "data": {
      "text/plain": [
       "count    395.000000\n",
       "mean      10.415190\n",
       "std        4.581443\n",
       "min        0.000000\n",
       "25%        8.000000\n",
       "50%       11.000000\n",
       "75%       14.000000\n",
       "max       20.000000\n",
       "Name: G3, dtype: float64"
      ]
     },
     "execution_count": 63,
     "metadata": {},
     "output_type": "execute_result"
    }
   ],
   "source": [
    "student_mat['G3'].describe()"
   ]
  },
  {
   "cell_type": "code",
   "execution_count": 44,
   "id": "b63b9a5d",
   "metadata": {},
   "outputs": [
    {
     "data": {
      "text/plain": [
       "395.0"
      ]
     },
     "execution_count": 44,
     "metadata": {},
     "output_type": "execute_result"
    }
   ],
   "source": [
    "summary_student_mat = student_mat['G1'].describe()\n",
    "summary_student_mat['count']"
   ]
  },
  {
   "cell_type": "code",
   "execution_count": 45,
   "id": "493f27c3",
   "metadata": {},
   "outputs": [
    {
     "data": {
      "text/plain": [
       "10.90886075949367"
      ]
     },
     "execution_count": 45,
     "metadata": {},
     "output_type": "execute_result"
    }
   ],
   "source": [
    "summary_student_mat['mean']"
   ]
  },
  {
   "cell_type": "code",
   "execution_count": 49,
   "id": "5875e6ea",
   "metadata": {},
   "outputs": [
    {
     "data": {
      "text/plain": [
       "3.3191946715076686"
      ]
     },
     "execution_count": 49,
     "metadata": {},
     "output_type": "execute_result"
    }
   ],
   "source": [
    "summary_student_mat['std']"
   ]
  },
  {
   "cell_type": "code",
   "execution_count": 50,
   "id": "1a1e00c3",
   "metadata": {},
   "outputs": [
    {
     "data": {
      "text/plain": [
       "3.0"
      ]
     },
     "execution_count": 50,
     "metadata": {},
     "output_type": "execute_result"
    }
   ],
   "source": [
    "summary_student_mat['min']"
   ]
  },
  {
   "cell_type": "code",
   "execution_count": 51,
   "id": "a54b99c9",
   "metadata": {},
   "outputs": [
    {
     "data": {
      "text/plain": [
       "8.0"
      ]
     },
     "execution_count": 51,
     "metadata": {},
     "output_type": "execute_result"
    }
   ],
   "source": [
    "summary_student_mat['25%']"
   ]
  },
  {
   "cell_type": "code",
   "execution_count": 52,
   "id": "e58480b6",
   "metadata": {},
   "outputs": [
    {
     "data": {
      "text/plain": [
       "11.0"
      ]
     },
     "execution_count": 52,
     "metadata": {},
     "output_type": "execute_result"
    }
   ],
   "source": [
    "summary_student_mat['50%']"
   ]
  },
  {
   "cell_type": "code",
   "execution_count": 53,
   "id": "5c52b6f3",
   "metadata": {},
   "outputs": [
    {
     "data": {
      "text/plain": [
       "13.0"
      ]
     },
     "execution_count": 53,
     "metadata": {},
     "output_type": "execute_result"
    }
   ],
   "source": [
    "summary_student_mat['75%']"
   ]
  },
  {
   "cell_type": "code",
   "execution_count": 54,
   "id": "3dc09705",
   "metadata": {},
   "outputs": [
    {
     "data": {
      "text/plain": [
       "19.0"
      ]
     },
     "execution_count": 54,
     "metadata": {},
     "output_type": "execute_result"
    }
   ],
   "source": [
    "summary_student_mat['max']"
   ]
  },
  {
   "cell_type": "markdown",
   "id": "1250354f",
   "metadata": {},
   "source": [
    "Kesimpulan :\n",
    "    1. G1 memiliki 395 data student yang mengikuti ujian pada pelajaran pertama\n",
    "    2. Rata - rata nilai dari G1 adalah 10.9 dimana nilai rata - rata belum terbilang maksimal karena masih setengah dari nilai maksimalnya yaitu 19\n",
    "    3. Standar Deviasi dari G1 adalah 3.3 dimana hal ini standar deviasi terhtiung luas\n",
    "    4. Nilai minimum pada G1 adalah 3.0 dapat ditarik kesimpulan bahwa masih ada siswa yang belum mengerti pelajaran pada G1\n",
    "    5. Quartil pertama dari G1 memiliki nilai 8.0 dapat ditarik kesimpulan nilai rata-rata dari siswa yang belum mengerti adalah 8.0\n",
    "    6. Quartil kedua dari G1 memiliki nilai 11.0 dapat ditarik kesimpulan nilai rata-rata dari siswa yang mengerti adalah 11.0\n",
    "    7. Quartil ketiga dari G1 memiliki nilai 13.0 dapat ditarik kesimpulan nilai rata-rata dari siswa yang sangat mengerti adalah 13.0\n",
    "    8. Nilai maksimum dari G1 adalah 19.0 dapat ditarik kesimpulan nilai rata-rata dari siswa paling mengerti memiliki nilai 19.0 atau nilai tertinggi"
   ]
  },
  {
   "cell_type": "code",
   "execution_count": 58,
   "id": "3d2d87c5",
   "metadata": {},
   "outputs": [
    {
     "data": {
      "text/plain": [
       "0.8521180663648061"
      ]
     },
     "execution_count": 58,
     "metadata": {},
     "output_type": "execute_result"
    }
   ],
   "source": [
    "corr_G1_G2 = student_mat['G1'].corr(student_mat['G2'])\n",
    "corr_G1_G2"
   ]
  },
  {
   "cell_type": "code",
   "execution_count": 61,
   "id": "8b87660b",
   "metadata": {},
   "outputs": [
    {
     "data": {
      "text/plain": [
       "0.801467932017414"
      ]
     },
     "execution_count": 61,
     "metadata": {},
     "output_type": "execute_result"
    }
   ],
   "source": [
    "corr_G1_G3 = student_mat['G1'].corr(student_mat['G3'])\n",
    "corr_G1_G3"
   ]
  },
  {
   "cell_type": "markdown",
   "id": "de0c6b8c",
   "metadata": {},
   "source": [
    "Kesimpulan:\n",
    "    1. Korelasi antara G1 dan G2 sangat tinggi yaitu pada nilai 0.85 sehingga dapat ditarik kesimpulan bahwa siswa yang mengerti pelajaran G1 memiliki bekal yang akan berguna di pelajaran G2.\n",
    "    2. Sedangkan korelasi antara G1 dan G3 lebih rendah daripada kolerasi G1 dengan G2 yaitu dengan nilai 0.80 sehingga dapat ditarik kesimpulan bahwa materi pada G3 memiliki perbedaan dengan materi G1 sehingga dapat dipelajari secara otodidak."
   ]
  }
 ],
 "metadata": {
  "kernelspec": {
   "display_name": "Python 3",
   "language": "python",
   "name": "python3"
  },
  "language_info": {
   "codemirror_mode": {
    "name": "ipython",
    "version": 3
   },
   "file_extension": ".py",
   "mimetype": "text/x-python",
   "name": "python",
   "nbconvert_exporter": "python",
   "pygments_lexer": "ipython3",
   "version": "3.8.8"
  }
 },
 "nbformat": 4,
 "nbformat_minor": 5
}
