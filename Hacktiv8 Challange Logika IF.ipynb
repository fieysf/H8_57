{
 "cells": [
  {
   "cell_type": "markdown",
   "id": "902dd6e6",
   "metadata": {},
   "source": [
    "case: \n",
    "print nama panjang apabila umur bisa dibagi 2, \n",
    "kemudian apabila tidak bisa dibagi 2, maka check \n",
    "dl panjang nama, apabila nama panjang terdiri dari 3 nama, maka print nama panjang, kalau tidak terdiri dari 3 nama maka print nama pendek\n",
    "\n",
    "contoh:\n",
    "nama panjang = doni surya putra\n",
    "nama pendek = doni\n",
    "umur = 18 tahun\n",
    "maka yang di print adalah \"doni surya putra\"\n",
    "\n",
    "kalau umur = 17 tahun\n",
    "maka yang di print adalah \"doni surya putra\"\n",
    "\n",
    "apabila:\n",
    "nama panjang = ayu sulityo\n",
    "nama pendek = ayu\n",
    "umur = 17\n",
    "ma\n",
    "apabila:\n",
    "nama panjang = ayu sulityo\n",
    "nama pendek = ayu\n",
    "umur = 17\n",
    "maka yang diprint adalah \"ayu\""
   ]
  },
  {
   "cell_type": "code",
   "execution_count": 24,
   "id": "ffb16504",
   "metadata": {},
   "outputs": [
    {
     "name": "stdout",
     "output_type": "stream",
     "text": [
      "Masukan Nama Panjang fie fie\n",
      "Masukan Nama Pendek fie\n",
      "Masukan Usia Anda 18\n",
      "fie fie\n"
     ]
    }
   ],
   "source": [
    "namapanjang = input('Masukan Nama Panjang ')\n",
    "namapendek = input('Masukan Nama Pendek ')\n",
    "age = int(input('Masukan Usia Anda '))\n",
    "splitname = namapanjang.split( )\n",
    "\n",
    "if age % 2 == 0:\n",
    "    print(namapanjang)\n",
    "elif(len(splitname) >=3):\n",
    "    print(namapendek)\n",
    "else:\n",
    "    print(namapendek)"
   ]
  },
  {
   "cell_type": "code",
   "execution_count": null,
   "id": "979855b7",
   "metadata": {},
   "outputs": [],
   "source": []
  }
 ],
 "metadata": {
  "kernelspec": {
   "display_name": "Python 3",
   "language": "python",
   "name": "python3"
  },
  "language_info": {
   "codemirror_mode": {
    "name": "ipython",
    "version": 3
   },
   "file_extension": ".py",
   "mimetype": "text/x-python",
   "name": "python",
   "nbconvert_exporter": "python",
   "pygments_lexer": "ipython3",
   "version": "3.8.8"
  }
 },
 "nbformat": 4,
 "nbformat_minor": 5
}
