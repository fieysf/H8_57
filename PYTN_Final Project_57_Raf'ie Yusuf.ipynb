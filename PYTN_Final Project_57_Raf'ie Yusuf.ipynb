{
 "cells": [
  {
   "attachments": {
    "image.png": {
     "image/png": "[encoded data removed]"
    }
   },
   "cell_type": "markdown",
   "id": "c67b62db",
   "metadata": {},
   "source": [
    "![image.png](attachment:image.png)"
   ]
  },
  {
   "cell_type": "markdown",
   "id": "456164b1",
   "metadata": {},
   "source": [
    "Title : Social Network Ads Purchase Prediction // Final Project by Raf'ie Yusuf // Intro to Python for Data Science by Hacktiv8 Batch 057"
   ]
  },
  {
   "cell_type": "markdown",
   "id": "3262826f",
   "metadata": {},
   "source": [
    "# INTRODUCTION"
   ]
  },
  {
   "cell_type": "markdown",
   "id": "0ab1a3b3",
   "metadata": {},
   "source": [
    "The Social Network dataset created by Ananya Nayan as can be seen on kaggle.com (https://www.kaggle.com/dragonheir/logistic-regression?select=Social_Network_Ads.csv). This dataset is made of one CSV file and it contains 400 rows & 5 columns. The Objective of this project is to predict someone wether he or she will buy the social ads by predicting from their estimated salary. The dataset contains several parameters which are considered important during the application for the purchase.\n",
    "\n",
    "The parameters included are :\n",
    "\n",
    "1. User ID ( Random )\n",
    "2. Gender ( Male or Female )\n",
    "3. Age\n",
    "4. Estimated Salary\n",
    "5. Purchased ( '0' no and '1' yes )"
   ]
  },
  {
   "cell_type": "markdown",
   "id": "1d3126ac",
   "metadata": {},
   "source": [
    "# IMPORTING LIBRARIES"
   ]
  },
  {
   "cell_type": "code",
   "execution_count": 1,
   "id": "328c2019",
   "metadata": {},
   "outputs": [],
   "source": [
    "import pandas as pd\n",
    "import numpy as np\n",
    "import matplotlib.pyplot as plt\n",
    "import seaborn as sns\n",
    "import warnings\n",
    "import sklearn.linear_model as linear_model\n",
    "import sklearn.neighbors as neighbors\n",
    "import math\n",
    "warnings.filterwarnings('ignore')\n",
    "\n",
    "from sklearn.model_selection import train_test_split\n",
    "from sklearn.linear_model import LogisticRegression\n",
    "from sklearn.tree import DecisionTreeRegressor,DecisionTreeClassifier\n",
    "from sklearn.ensemble import RandomForestRegressor,RandomForestClassifier\n",
    "from sklearn.neighbors import KNeighborsRegressor,KNeighborsClassifier\n",
    "from sklearn import svm\n",
    "from sklearn.naive_bayes import GaussianNB\n",
    "from sklearn.metrics import accuracy_score,mean_squared_error\n",
    "from sklearn import preprocessing\n",
    "from sklearn.metrics import confusion_matrix, classification_report\n",
    "\n",
    "%matplotlib inline"
   ]
  },
  {
   "cell_type": "markdown",
   "id": "9a0715ad",
   "metadata": {},
   "source": [
    "# LOADING DATASET & EXPLORATORY DATA ANALYSYS"
   ]
  },
  {
   "cell_type": "code",
   "execution_count": 2,
   "id": "b415a638",
   "metadata": {},
   "outputs": [
    {
     "name": "stdout",
     "output_type": "stream",
     "text": [
      "Social Network Ads dataset read into a pandas dataframe\n"
     ]
    }
   ],
   "source": [
    "# Loading Dataset\n",
    "df = pd.read_csv('/Users/Fie/Desktop/dataset/Social_Network_Ads.csv')\n",
    "\n",
    "#Printing info for dataset loaded properly into a pandas dataframe\n",
    "print('Social Network Ads dataset read into a pandas dataframe')"
   ]
  },
  {
   "cell_type": "code",
   "execution_count": 3,
   "id": "fb16819b",
   "metadata": {},
   "outputs": [
    {
     "data": {
      "text/html": [
       "<div>\n",
       "<style scoped>\n",
       "    .dataframe tbody tr th:only-of-type {\n",
       "        vertical-align: middle;\n",
       "    }\n",
       "\n",
       "    .dataframe tbody tr th {\n",
       "        vertical-align: top;\n",
       "    }\n",
       "\n",
       "    .dataframe thead th {\n",
       "        text-align: right;\n",
       "    }\n",
       "</style>\n",
       "<table border=\"1\" class=\"dataframe\">\n",
       "  <thead>\n",
       "    <tr style=\"text-align: right;\">\n",
       "      <th></th>\n",
       "      <th>User ID</th>\n",
       "      <th>Gender</th>\n",
       "      <th>Age</th>\n",
       "      <th>EstimatedSalary</th>\n",
       "      <th>Purchased</th>\n",
       "    </tr>\n",
       "  </thead>\n",
       "  <tbody>\n",
       "    <tr>\n",
       "      <th>0</th>\n",
       "      <td>15624510</td>\n",
       "      <td>Male</td>\n",
       "      <td>19</td>\n",
       "      <td>19000</td>\n",
       "      <td>0</td>\n",
       "    </tr>\n",
       "    <tr>\n",
       "      <th>1</th>\n",
       "      <td>15810944</td>\n",
       "      <td>Male</td>\n",
       "      <td>35</td>\n",
       "      <td>20000</td>\n",
       "      <td>0</td>\n",
       "    </tr>\n",
       "    <tr>\n",
       "      <th>2</th>\n",
       "      <td>15668575</td>\n",
       "      <td>Female</td>\n",
       "      <td>26</td>\n",
       "      <td>43000</td>\n",
       "      <td>0</td>\n",
       "    </tr>\n",
       "    <tr>\n",
       "      <th>3</th>\n",
       "      <td>15603246</td>\n",
       "      <td>Female</td>\n",
       "      <td>27</td>\n",
       "      <td>57000</td>\n",
       "      <td>0</td>\n",
       "    </tr>\n",
       "    <tr>\n",
       "      <th>4</th>\n",
       "      <td>15804002</td>\n",
       "      <td>Male</td>\n",
       "      <td>19</td>\n",
       "      <td>76000</td>\n",
       "      <td>0</td>\n",
       "    </tr>\n",
       "  </tbody>\n",
       "</table>\n",
       "</div>"
      ],
      "text/plain": [
       "    User ID  Gender  Age  EstimatedSalary  Purchased\n",
       "0  15624510    Male   19            19000          0\n",
       "1  15810944    Male   35            20000          0\n",
       "2  15668575  Female   26            43000          0\n",
       "3  15603246  Female   27            57000          0\n",
       "4  15804002    Male   19            76000          0"
      ]
     },
     "execution_count": 3,
     "metadata": {},
     "output_type": "execute_result"
    }
   ],
   "source": [
    "#head() function to know the top 5 rows of the dataset\n",
    "df.head()"
   ]
  },
  {
   "cell_type": "code",
   "execution_count": 4,
   "id": "c8e63d01",
   "metadata": {},
   "outputs": [
    {
     "data": {
      "text/html": [
       "<div>\n",
       "<style scoped>\n",
       "    .dataframe tbody tr th:only-of-type {\n",
       "        vertical-align: middle;\n",
       "    }\n",
       "\n",
       "    .dataframe tbody tr th {\n",
       "        vertical-align: top;\n",
       "    }\n",
       "\n",
       "    .dataframe thead th {\n",
       "        text-align: right;\n",
       "    }\n",
       "</style>\n",
       "<table border=\"1\" class=\"dataframe\">\n",
       "  <thead>\n",
       "    <tr style=\"text-align: right;\">\n",
       "      <th></th>\n",
       "      <th>User ID</th>\n",
       "      <th>Gender</th>\n",
       "      <th>Age</th>\n",
       "      <th>EstimatedSalary</th>\n",
       "      <th>Purchased</th>\n",
       "    </tr>\n",
       "  </thead>\n",
       "  <tbody>\n",
       "    <tr>\n",
       "      <th>395</th>\n",
       "      <td>15691863</td>\n",
       "      <td>Female</td>\n",
       "      <td>46</td>\n",
       "      <td>41000</td>\n",
       "      <td>1</td>\n",
       "    </tr>\n",
       "    <tr>\n",
       "      <th>396</th>\n",
       "      <td>15706071</td>\n",
       "      <td>Male</td>\n",
       "      <td>51</td>\n",
       "      <td>23000</td>\n",
       "      <td>1</td>\n",
       "    </tr>\n",
       "    <tr>\n",
       "      <th>397</th>\n",
       "      <td>15654296</td>\n",
       "      <td>Female</td>\n",
       "      <td>50</td>\n",
       "      <td>20000</td>\n",
       "      <td>1</td>\n",
       "    </tr>\n",
       "    <tr>\n",
       "      <th>398</th>\n",
       "      <td>15755018</td>\n",
       "      <td>Male</td>\n",
       "      <td>36</td>\n",
       "      <td>33000</td>\n",
       "      <td>0</td>\n",
       "    </tr>\n",
       "    <tr>\n",
       "      <th>399</th>\n",
       "      <td>15594041</td>\n",
       "      <td>Female</td>\n",
       "      <td>49</td>\n",
       "      <td>36000</td>\n",
       "      <td>1</td>\n",
       "    </tr>\n",
       "  </tbody>\n",
       "</table>\n",
       "</div>"
      ],
      "text/plain": [
       "      User ID  Gender  Age  EstimatedSalary  Purchased\n",
       "395  15691863  Female   46            41000          1\n",
       "396  15706071    Male   51            23000          1\n",
       "397  15654296  Female   50            20000          1\n",
       "398  15755018    Male   36            33000          0\n",
       "399  15594041  Female   49            36000          1"
      ]
     },
     "execution_count": 4,
     "metadata": {},
     "output_type": "execute_result"
    }
   ],
   "source": [
    "#tail() function to know the bottom 5 rows of the dataset\n",
    "df.tail()"
   ]
  },
  {
   "cell_type": "code",
   "execution_count": 5,
   "id": "274a0e00",
   "metadata": {},
   "outputs": [
    {
     "name": "stdout",
     "output_type": "stream",
     "text": [
      "<class 'pandas.core.frame.DataFrame'>\n",
      "RangeIndex: 400 entries, 0 to 399\n",
      "Data columns (total 5 columns):\n",
      " #   Column           Non-Null Count  Dtype \n",
      "---  ------           --------------  ----- \n",
      " 0   User ID          400 non-null    int64 \n",
      " 1   Gender           400 non-null    object\n",
      " 2   Age              400 non-null    int64 \n",
      " 3   EstimatedSalary  400 non-null    int64 \n",
      " 4   Purchased        400 non-null    int64 \n",
      "dtypes: int64(4), object(1)\n",
      "memory usage: 15.8+ KB\n"
     ]
    }
   ],
   "source": [
    "#Gathering info before we start analyzing the dataset\n",
    "df.info()"
   ]
  },
  {
   "cell_type": "code",
   "execution_count": 6,
   "id": "9c651fdc",
   "metadata": {},
   "outputs": [
    {
     "data": {
      "text/plain": [
       "array(['User ID', 'Gender', 'Age', 'EstimatedSalary', 'Purchased'],\n",
       "      dtype=object)"
      ]
     },
     "execution_count": 6,
     "metadata": {},
     "output_type": "execute_result"
    }
   ],
   "source": [
    "#Getting info of the columns\n",
    "df.columns.values"
   ]
  },
  {
   "cell_type": "code",
   "execution_count": 7,
   "id": "fa8dfdec",
   "metadata": {},
   "outputs": [
    {
     "data": {
      "text/plain": [
       "User ID            0\n",
       "Gender             0\n",
       "Age                0\n",
       "EstimatedSalary    0\n",
       "Purchased          0\n",
       "dtype: int64"
      ]
     },
     "execution_count": 7,
     "metadata": {},
     "output_type": "execute_result"
    }
   ],
   "source": [
    "#better to look for the missing value\n",
    "df.isnull().sum()"
   ]
  },
  {
   "cell_type": "code",
   "execution_count": 8,
   "id": "3a68f55c",
   "metadata": {},
   "outputs": [
    {
     "data": {
      "text/html": [
       "<div>\n",
       "<style scoped>\n",
       "    .dataframe tbody tr th:only-of-type {\n",
       "        vertical-align: middle;\n",
       "    }\n",
       "\n",
       "    .dataframe tbody tr th {\n",
       "        vertical-align: top;\n",
       "    }\n",
       "\n",
       "    .dataframe thead th {\n",
       "        text-align: right;\n",
       "    }\n",
       "</style>\n",
       "<table border=\"1\" class=\"dataframe\">\n",
       "  <thead>\n",
       "    <tr style=\"text-align: right;\">\n",
       "      <th></th>\n",
       "      <th>Gender</th>\n",
       "      <th>Age</th>\n",
       "      <th>EstimatedSalary</th>\n",
       "      <th>Purchased</th>\n",
       "    </tr>\n",
       "  </thead>\n",
       "  <tbody>\n",
       "    <tr>\n",
       "      <th>0</th>\n",
       "      <td>Male</td>\n",
       "      <td>19</td>\n",
       "      <td>19000</td>\n",
       "      <td>0</td>\n",
       "    </tr>\n",
       "    <tr>\n",
       "      <th>1</th>\n",
       "      <td>Male</td>\n",
       "      <td>35</td>\n",
       "      <td>20000</td>\n",
       "      <td>0</td>\n",
       "    </tr>\n",
       "    <tr>\n",
       "      <th>2</th>\n",
       "      <td>Female</td>\n",
       "      <td>26</td>\n",
       "      <td>43000</td>\n",
       "      <td>0</td>\n",
       "    </tr>\n",
       "    <tr>\n",
       "      <th>3</th>\n",
       "      <td>Female</td>\n",
       "      <td>27</td>\n",
       "      <td>57000</td>\n",
       "      <td>0</td>\n",
       "    </tr>\n",
       "    <tr>\n",
       "      <th>4</th>\n",
       "      <td>Male</td>\n",
       "      <td>19</td>\n",
       "      <td>76000</td>\n",
       "      <td>0</td>\n",
       "    </tr>\n",
       "    <tr>\n",
       "      <th>...</th>\n",
       "      <td>...</td>\n",
       "      <td>...</td>\n",
       "      <td>...</td>\n",
       "      <td>...</td>\n",
       "    </tr>\n",
       "    <tr>\n",
       "      <th>395</th>\n",
       "      <td>Female</td>\n",
       "      <td>46</td>\n",
       "      <td>41000</td>\n",
       "      <td>1</td>\n",
       "    </tr>\n",
       "    <tr>\n",
       "      <th>396</th>\n",
       "      <td>Male</td>\n",
       "      <td>51</td>\n",
       "      <td>23000</td>\n",
       "      <td>1</td>\n",
       "    </tr>\n",
       "    <tr>\n",
       "      <th>397</th>\n",
       "      <td>Female</td>\n",
       "      <td>50</td>\n",
       "      <td>20000</td>\n",
       "      <td>1</td>\n",
       "    </tr>\n",
       "    <tr>\n",
       "      <th>398</th>\n",
       "      <td>Male</td>\n",
       "      <td>36</td>\n",
       "      <td>33000</td>\n",
       "      <td>0</td>\n",
       "    </tr>\n",
       "    <tr>\n",
       "      <th>399</th>\n",
       "      <td>Female</td>\n",
       "      <td>49</td>\n",
       "      <td>36000</td>\n",
       "      <td>1</td>\n",
       "    </tr>\n",
       "  </tbody>\n",
       "</table>\n",
       "<p>400 rows × 4 columns</p>\n",
       "</div>"
      ],
      "text/plain": [
       "     Gender  Age  EstimatedSalary  Purchased\n",
       "0      Male   19            19000          0\n",
       "1      Male   35            20000          0\n",
       "2    Female   26            43000          0\n",
       "3    Female   27            57000          0\n",
       "4      Male   19            76000          0\n",
       "..      ...  ...              ...        ...\n",
       "395  Female   46            41000          1\n",
       "396    Male   51            23000          1\n",
       "397  Female   50            20000          1\n",
       "398    Male   36            33000          0\n",
       "399  Female   49            36000          1\n",
       "\n",
       "[400 rows x 4 columns]"
      ]
     },
     "execution_count": 8,
     "metadata": {},
     "output_type": "execute_result"
    }
   ],
   "source": [
    "#dropping the columns we don't need\n",
    "dfc = df.drop(['User ID'], axis=1)\n",
    "dfc"
   ]
  },
  {
   "cell_type": "markdown",
   "id": "1b2e31da",
   "metadata": {},
   "source": [
    "# DATA VISUALIZING"
   ]
  },
  {
   "cell_type": "code",
   "execution_count": 9,
   "id": "9ad775c0",
   "metadata": {},
   "outputs": [
    {
     "data": {
      "text/plain": [
       "<AxesSubplot:>"
      ]
     },
     "execution_count": 9,
     "metadata": {},
     "output_type": "execute_result"
    },
    {
     "data": {
      "image/png": "[encoded data removed]",
      "text/plain": [
       "<Figure size 864x864 with 2 Axes>"
      ]
     },
     "metadata": {
      "needs_background": "light"
     },
     "output_type": "display_data"
    }
   ],
   "source": [
    "#Correlation plot to see the variables correlation\n",
    "plt.figure(figsize=(12,12))\n",
    "sns.heatmap(dfc.corr(), cmap='coolwarm', annot= True)"
   ]
  },
  {
   "cell_type": "code",
   "execution_count": 10,
   "id": "65168091",
   "metadata": {},
   "outputs": [
    {
     "data": {
      "text/plain": [
       "<AxesSubplot:xlabel='EstimatedSalary', ylabel='Density'>"
      ]
     },
     "execution_count": 10,
     "metadata": {},
     "output_type": "execute_result"
    },
    {
     "data": {
      "image/png": "[encoded data removed]",
      "text/plain": [
       "<Figure size 1440x720 with 2 Axes>"
      ]
     },
     "metadata": {
      "needs_background": "light"
     },
     "output_type": "display_data"
    }
   ],
   "source": [
    "#Visualizing the dataset to see the distribution of each variable\n",
    "f = plt.figure(figsize=(20,10))\n",
    "\n",
    "\n",
    "#Plotting the distribution of 'Age'\n",
    "ax = f.add_subplot(231)\n",
    "sns.distplot(dfc['Age'],bins=50,color='b',ax=ax)\n",
    "\n",
    "#Plotting the distribution of 'Estimated Salary'\n",
    "ax = f.add_subplot(232)\n",
    "sns.distplot(dfc['EstimatedSalary'],bins=50,color='g',ax=ax)"
   ]
  },
  {
   "cell_type": "code",
   "execution_count": 11,
   "id": "0dc191e7",
   "metadata": {},
   "outputs": [
    {
     "data": {
      "text/plain": [
       "<AxesSubplot:xlabel='EstimatedSalary', ylabel='Gender'>"
      ]
     },
     "execution_count": 11,
     "metadata": {},
     "output_type": "execute_result"
    },
    {
     "data": {
      "image/png": "[encoded data removed]",
      "text/plain": [
       "<Figure size 432x288 with 1 Axes>"
      ]
     },
     "metadata": {
      "needs_background": "light"
     },
     "output_type": "display_data"
    }
   ],
   "source": [
    "sns.barplot('EstimatedSalary','Gender',data=dfc)"
   ]
  },
  {
   "cell_type": "code",
   "execution_count": 12,
   "id": "ec193df3",
   "metadata": {},
   "outputs": [
    {
     "data": {
      "text/plain": [
       "<AxesSubplot:xlabel='Age', ylabel='Gender'>"
      ]
     },
     "execution_count": 12,
     "metadata": {},
     "output_type": "execute_result"
    },
    {
     "data": {
      "image/png": "[encoded data removed]",
      "text/plain": [
       "<Figure size 432x288 with 1 Axes>"
      ]
     },
     "metadata": {
      "needs_background": "light"
     },
     "output_type": "display_data"
    }
   ],
   "source": [
    "sns.barplot('Age','Gender',data=dfc)"
   ]
  },
  {
   "cell_type": "markdown",
   "id": "4a03d7a3",
   "metadata": {},
   "source": [
    "<b> Insight </b>"
   ]
  },
  {
   "cell_type": "markdown",
   "id": "a8b2d7b8",
   "metadata": {},
   "source": [
    "1. The distribution of Age is densely populated from 30 to 40\n",
    "2. The distribution of Estimated Salary is densely populated between around 20.000 to 80.000\n",
    "3. Female has more salary than Male because most of female are older"
   ]
  },
  {
   "cell_type": "markdown",
   "id": "aa0e608d",
   "metadata": {},
   "source": [
    "# DATA PREPROCESSING"
   ]
  },
  {
   "cell_type": "markdown",
   "id": "7334d51f",
   "metadata": {},
   "source": [
    "Because the 'Gender' feature data type is still an object, we have to encode it to integer or float (to numeric)."
   ]
  },
  {
   "cell_type": "code",
   "execution_count": 13,
   "id": "ad526e6b",
   "metadata": {},
   "outputs": [],
   "source": [
    "#Assigning the variable of the feature\n",
    "gend = dfc['Gender']\n",
    "\n",
    "#Encoding the feature into 'male = 1, female = 0'\n",
    "le = preprocessing.LabelEncoder()\n",
    "gen_enc = le.fit_transform(gend)"
   ]
  },
  {
   "cell_type": "code",
   "execution_count": 14,
   "id": "acb19dd3",
   "metadata": {},
   "outputs": [
    {
     "data": {
      "text/html": [
       "<div>\n",
       "<style scoped>\n",
       "    .dataframe tbody tr th:only-of-type {\n",
       "        vertical-align: middle;\n",
       "    }\n",
       "\n",
       "    .dataframe tbody tr th {\n",
       "        vertical-align: top;\n",
       "    }\n",
       "\n",
       "    .dataframe thead th {\n",
       "        text-align: right;\n",
       "    }\n",
       "</style>\n",
       "<table border=\"1\" class=\"dataframe\">\n",
       "  <thead>\n",
       "    <tr style=\"text-align: right;\">\n",
       "      <th></th>\n",
       "      <th>Gender</th>\n",
       "      <th>Age</th>\n",
       "      <th>EstimatedSalary</th>\n",
       "      <th>Purchased</th>\n",
       "    </tr>\n",
       "  </thead>\n",
       "  <tbody>\n",
       "    <tr>\n",
       "      <th>0</th>\n",
       "      <td>1</td>\n",
       "      <td>19</td>\n",
       "      <td>19000</td>\n",
       "      <td>0</td>\n",
       "    </tr>\n",
       "    <tr>\n",
       "      <th>1</th>\n",
       "      <td>1</td>\n",
       "      <td>35</td>\n",
       "      <td>20000</td>\n",
       "      <td>0</td>\n",
       "    </tr>\n",
       "    <tr>\n",
       "      <th>2</th>\n",
       "      <td>0</td>\n",
       "      <td>26</td>\n",
       "      <td>43000</td>\n",
       "      <td>0</td>\n",
       "    </tr>\n",
       "    <tr>\n",
       "      <th>3</th>\n",
       "      <td>0</td>\n",
       "      <td>27</td>\n",
       "      <td>57000</td>\n",
       "      <td>0</td>\n",
       "    </tr>\n",
       "    <tr>\n",
       "      <th>4</th>\n",
       "      <td>1</td>\n",
       "      <td>19</td>\n",
       "      <td>76000</td>\n",
       "      <td>0</td>\n",
       "    </tr>\n",
       "  </tbody>\n",
       "</table>\n",
       "</div>"
      ],
      "text/plain": [
       "   Gender  Age  EstimatedSalary  Purchased\n",
       "0       1   19            19000          0\n",
       "1       1   35            20000          0\n",
       "2       0   26            43000          0\n",
       "3       0   27            57000          0\n",
       "4       1   19            76000          0"
      ]
     },
     "execution_count": 14,
     "metadata": {},
     "output_type": "execute_result"
    }
   ],
   "source": [
    "#Replacing the feature with the encoded one\n",
    "dfc['Gender']=gen_enc\n",
    "#showing the new dataframe\n",
    "dfc.head()"
   ]
  },
  {
   "cell_type": "code",
   "execution_count": 15,
   "id": "d647e112",
   "metadata": {},
   "outputs": [
    {
     "name": "stdout",
     "output_type": "stream",
     "text": [
      "<class 'pandas.core.frame.DataFrame'>\n",
      "RangeIndex: 400 entries, 0 to 399\n",
      "Data columns (total 4 columns):\n",
      " #   Column           Non-Null Count  Dtype\n",
      "---  ------           --------------  -----\n",
      " 0   Gender           400 non-null    int64\n",
      " 1   Age              400 non-null    int64\n",
      " 2   EstimatedSalary  400 non-null    int64\n",
      " 3   Purchased        400 non-null    int64\n",
      "dtypes: int64(4)\n",
      "memory usage: 12.6 KB\n"
     ]
    }
   ],
   "source": [
    "#make sure the datatype of the 'Gender' feature is numeric\n",
    "dfc.info()"
   ]
  },
  {
   "cell_type": "markdown",
   "id": "ba72674e",
   "metadata": {},
   "source": [
    "Now, all the data types are numeric. We can continue to process the data before making a model"
   ]
  },
  {
   "cell_type": "code",
   "execution_count": 16,
   "id": "a7edbacb",
   "metadata": {},
   "outputs": [],
   "source": [
    "X = dfc.drop('Purchased', axis=1)\n",
    "y = dfc['Purchased']"
   ]
  },
  {
   "cell_type": "code",
   "execution_count": 17,
   "id": "757e9a8a",
   "metadata": {},
   "outputs": [],
   "source": [
    "#Normalisation works slightly better for Regression.\n",
    "X_train,X_test,y_train,y_test=train_test_split(X,\n",
    "                                               y,\n",
    "                                               test_size=0.30,random_state=101)"
   ]
  },
  {
   "cell_type": "code",
   "execution_count": 18,
   "id": "95e9774e",
   "metadata": {},
   "outputs": [
    {
     "name": "stdout",
     "output_type": "stream",
     "text": [
      "(280, 3) (280,)\n",
      "(120, 3) (120,)\n"
     ]
    }
   ],
   "source": [
    "#Checking the dimension of the training and test data\n",
    "print(X_train.shape, y_train.shape)\n",
    "print(X_test.shape, y_test.shape)"
   ]
  },
  {
   "cell_type": "markdown",
   "id": "79cd9142",
   "metadata": {},
   "source": [
    "# DATA MODELING"
   ]
  },
  {
   "cell_type": "markdown",
   "id": "2ae7e9b2",
   "metadata": {},
   "source": [
    "<b>Logistic Regression</b>"
   ]
  },
  {
   "cell_type": "code",
   "execution_count": 19,
   "id": "502247b0",
   "metadata": {},
   "outputs": [
    {
     "name": "stdout",
     "output_type": "stream",
     "text": [
      "Model's accuracy:  0.6666666666666666 \n",
      "\n",
      "Mean Squared Error:  0.3333333333333333 \n",
      "\n",
      "Root Mean Squared Error:  0.5773502691896257 \n",
      "\n",
      "Confusion Matrix: \n",
      " [[80  0]\n",
      " [40  0]] \n",
      "\n",
      "Classification Report: \n",
      "               precision    recall  f1-score   support\n",
      "\n",
      "           0       0.67      1.00      0.80        80\n",
      "           1       0.00      0.00      0.00        40\n",
      "\n",
      "    accuracy                           0.67       120\n",
      "   macro avg       0.33      0.50      0.40       120\n",
      "weighted avg       0.44      0.67      0.53       120\n",
      "\n"
     ]
    }
   ],
   "source": [
    "logreg_model = LogisticRegression()\n",
    "logreg_model.fit(X_train,y_train)\n",
    "\n",
    "#model predict\n",
    "logreg_pred = logreg_model.predict(X_test)\n",
    "\n",
    "#model Evaluation\n",
    "accuracy_logreg = accuracy_score(y_test, logreg_pred)\n",
    "mse_logreg = mean_squared_error(y_test, logreg_pred)\n",
    "rmse_logreg = math.sqrt(mse_logreg)\n",
    "print(\"Model's accuracy: \", accuracy_logreg, '\\n')\n",
    "print(\"Mean Squared Error: \", mse_logreg, '\\n')\n",
    "print(\"Root Mean Squared Error: \", rmse_logreg,\n",
    "     '\\n')\n",
    "print(\"Confusion Matrix:\", '\\n',\n",
    "      confusion_matrix(y_test, logreg_pred),\n",
    "      '\\n')\n",
    "print(\"Classification Report:\", '\\n',\n",
    "      classification_report(y_test, logreg_pred))"
   ]
  },
  {
   "cell_type": "markdown",
   "id": "1b289f33",
   "metadata": {},
   "source": [
    "<b> Inference : </b> The Accuracy score is 66%"
   ]
  },
  {
   "cell_type": "markdown",
   "id": "6458e6c3",
   "metadata": {},
   "source": [
    "<b> K-Neighbors-Classifier </b>"
   ]
  },
  {
   "cell_type": "code",
   "execution_count": 20,
   "id": "4658df11",
   "metadata": {},
   "outputs": [
    {
     "name": "stdout",
     "output_type": "stream",
     "text": [
      "Model's accuracy:  0.8 \n",
      "\n",
      "Mean Squared Error:  0.2 \n",
      "\n",
      "Root Mean Squared Error:  0.4472135954999579 \n",
      "\n",
      "Confusion Matrix: \n",
      " [[65 15]\n",
      " [ 9 31]] \n",
      "\n",
      "Classification Report: \n",
      "               precision    recall  f1-score   support\n",
      "\n",
      "           0       0.88      0.81      0.84        80\n",
      "           1       0.67      0.78      0.72        40\n",
      "\n",
      "    accuracy                           0.80       120\n",
      "   macro avg       0.78      0.79      0.78       120\n",
      "weighted avg       0.81      0.80      0.80       120\n",
      "\n"
     ]
    },
    {
     "data": {
      "text/plain": [
       "<sklearn.metrics._plot.confusion_matrix.ConfusionMatrixDisplay at 0x7ff36ac947c0>"
      ]
     },
     "execution_count": 20,
     "metadata": {},
     "output_type": "execute_result"
    },
    {
     "data": {
      "image/png": "[encoded data removed]",
      "text/plain": [
       "<Figure size 432x288 with 2 Axes>"
      ]
     },
     "metadata": {
      "needs_background": "light"
     },
     "output_type": "display_data"
    }
   ],
   "source": [
    "#model fitting\n",
    "knn_model = KNeighborsClassifier()\n",
    "knn_model.fit(X_train,y_train)\n",
    "\n",
    "#model predict\n",
    "knn_pred = knn_model.predict(X_test)\n",
    "\n",
    "#model Evaluation\n",
    "accuracy_knn = accuracy_score(y_test, knn_pred)\n",
    "mse_knn = mean_squared_error(y_test, knn_pred)\n",
    "rmse_knn = math.sqrt(mse_knn)\n",
    "print(\"Model's accuracy: \", accuracy_knn, '\\n')\n",
    "print(\"Mean Squared Error: \", mse_knn, '\\n')\n",
    "print(\"Root Mean Squared Error: \", rmse_knn,\n",
    "     '\\n')\n",
    "print(\"Confusion Matrix:\", '\\n',\n",
    "      confusion_matrix(y_test, knn_pred),\n",
    "      '\\n')\n",
    "print(\"Classification Report:\", '\\n',\n",
    "      classification_report(y_test, knn_pred))\n",
    "\n",
    "#visualizing the KNN model\n",
    "from sklearn.metrics import plot_confusion_matrix\n",
    "plot_confusion_matrix(knn_model, X_test, y_test)"
   ]
  },
  {
   "cell_type": "markdown",
   "id": "42a194c0",
   "metadata": {},
   "source": [
    "<b> Inference : </b> The Accuracy score is 80%"
   ]
  },
  {
   "cell_type": "markdown",
   "id": "5b03315b",
   "metadata": {},
   "source": [
    "<b> Support Vector Machine </b>"
   ]
  },
  {
   "cell_type": "code",
   "execution_count": 21,
   "id": "1bbf088d",
   "metadata": {},
   "outputs": [
    {
     "name": "stdout",
     "output_type": "stream",
     "text": [
      "Accuracy: 0.7833333333333333\n",
      "Model's accuracy:  0.7833333333333333 \n",
      "\n",
      "Mean Squared Error:  0.21666666666666667 \n",
      "\n",
      "Root Mean Squared Error:  0.4472135954999579 \n",
      "\n",
      "Confusion Matrix: \n",
      " [[76  4]\n",
      " [22 18]] \n",
      "\n",
      "Classification Report: \n",
      "               precision    recall  f1-score   support\n",
      "\n",
      "           0       0.78      0.95      0.85        80\n",
      "           1       0.82      0.45      0.58        40\n",
      "\n",
      "    accuracy                           0.78       120\n",
      "   macro avg       0.80      0.70      0.72       120\n",
      "weighted avg       0.79      0.78      0.76       120\n",
      "\n"
     ]
    }
   ],
   "source": [
    "#variable assignment\n",
    "svm_model = svm.SVC()\n",
    "\n",
    "#model fitting\n",
    "svm_model.fit(X_train, y_train)\n",
    "\n",
    "#model prediction\n",
    "svm_pred = svm_model.predict(X_test)\n",
    "\n",
    "#model Evaluation\n",
    "accuracy_svm = accuracy_score(y_test, svm_pred)\n",
    "print(\"Accuracy:\", accuracy_svm)\n",
    "mse_svm = mean_squared_error(y_test, svm_pred)\n",
    "rmse_svm = math.sqrt(mse_knn)\n",
    "print(\"Model's accuracy: \", accuracy_svm, '\\n')\n",
    "print(\"Mean Squared Error: \", mse_svm, '\\n')\n",
    "print(\"Root Mean Squared Error: \", rmse_svm,\n",
    "     '\\n')\n",
    "print(\"Confusion Matrix:\", '\\n',\n",
    "      confusion_matrix(y_test, svm_pred),\n",
    "      '\\n')\n",
    "print(\"Classification Report:\", '\\n',\n",
    "      classification_report(y_test, svm_pred))"
   ]
  },
  {
   "cell_type": "markdown",
   "id": "3517c027",
   "metadata": {},
   "source": [
    "<b> Inference : </b> The Accuracy score is 78,3%"
   ]
  },
  {
   "cell_type": "markdown",
   "id": "55092918",
   "metadata": {},
   "source": [
    "<b> Random Forest </b>"
   ]
  },
  {
   "cell_type": "code",
   "execution_count": 22,
   "id": "bacc5662",
   "metadata": {},
   "outputs": [
    {
     "name": "stdout",
     "output_type": "stream",
     "text": [
      "Accuracy: 0.9166666666666666\n",
      "Model's accuracy:  0.9166666666666666 \n",
      "\n",
      "Mean Squared Error:  0.08333333333333333 \n",
      "\n",
      "Root Mean Squared Error:  0.28867513459481287 \n",
      "\n",
      "Confusion Matrix: \n",
      " [[71  9]\n",
      " [ 1 39]] \n",
      "\n",
      "Classification Report: \n",
      "               precision    recall  f1-score   support\n",
      "\n",
      "           0       0.99      0.89      0.93        80\n",
      "           1       0.81      0.97      0.89        40\n",
      "\n",
      "    accuracy                           0.92       120\n",
      "   macro avg       0.90      0.93      0.91       120\n",
      "weighted avg       0.93      0.92      0.92       120\n",
      "\n"
     ]
    }
   ],
   "source": [
    "#variable assignment\n",
    "rf_model = RandomForestClassifier(n_estimators=100)\n",
    "\n",
    "#Fitting the classifier\n",
    "rf_model.fit(X_train, y_train)\n",
    "rf_pred = rf_model.predict(X_test)\n",
    "\n",
    "# model Evaluation\n",
    "accuracy_rf = accuracy_score(y_test, rf_pred)\n",
    "print(\"Accuracy:\", accuracy_rf)\n",
    "mse_rf = mean_squared_error(y_test, rf_pred)\n",
    "rmse_rf = math.sqrt(mse_rf)\n",
    "print(\"Model's accuracy: \", accuracy_rf, '\\n')\n",
    "print(\"Mean Squared Error: \", mse_rf, '\\n')\n",
    "print(\"Root Mean Squared Error: \", rmse_rf,\n",
    "     '\\n')\n",
    "print(\"Confusion Matrix:\", '\\n',\n",
    "      confusion_matrix(y_test, rf_pred),\n",
    "      '\\n')\n",
    "print(\"Classification Report:\", '\\n',\n",
    "      classification_report(y_test, rf_pred))"
   ]
  },
  {
   "cell_type": "markdown",
   "id": "a9d123a4",
   "metadata": {},
   "source": [
    "<b> Inference : </b> The Accuracy score is 91,6%"
   ]
  },
  {
   "cell_type": "markdown",
   "id": "5fff445d",
   "metadata": {},
   "source": [
    "<b> Decision Tree </b>"
   ]
  },
  {
   "cell_type": "code",
   "execution_count": 23,
   "id": "d55399d1",
   "metadata": {},
   "outputs": [
    {
     "name": "stdout",
     "output_type": "stream",
     "text": [
      "Accuracy: 0.8833333333333333\n",
      "Model's accuracy:  0.8833333333333333 \n",
      "\n",
      "Mean Squared Error:  0.11666666666666667 \n",
      "\n",
      "Root Mean Squared Error:  0.28867513459481287 \n",
      "\n",
      "Confusion Matrix: \n",
      " [[69 11]\n",
      " [ 3 37]] \n",
      "\n",
      "Classification Report: \n",
      "               precision    recall  f1-score   support\n",
      "\n",
      "           0       0.96      0.86      0.91        80\n",
      "           1       0.77      0.93      0.84        40\n",
      "\n",
      "    accuracy                           0.88       120\n",
      "   macro avg       0.86      0.89      0.87       120\n",
      "weighted avg       0.90      0.88      0.89       120\n",
      "\n"
     ]
    }
   ],
   "source": [
    "#variable assignment\n",
    "dc_model = DecisionTreeClassifier()\n",
    "\n",
    "#model fitting\n",
    "dc_model.fit(X_train, y_train)\n",
    "\n",
    "#model predict for test dataset\n",
    "dc_pred = dc_model.predict(X_test)\n",
    "\n",
    "#model evaluation\n",
    "accuracy_dc = accuracy_score(y_test, dc_pred)\n",
    "print(\"Accuracy:\", accuracy_dc)\n",
    "mse_dc = mean_squared_error(y_test, dc_pred)\n",
    "rmse_dc = math.sqrt(mse_rf)\n",
    "print(\"Model's accuracy: \", accuracy_dc, '\\n')\n",
    "print(\"Mean Squared Error: \", mse_dc, '\\n')\n",
    "print(\"Root Mean Squared Error: \", rmse_dc,\n",
    "     '\\n')\n",
    "print(\"Confusion Matrix:\", '\\n',\n",
    "      confusion_matrix(y_test, dc_pred),\n",
    "      '\\n')\n",
    "print(\"Classification Report:\", '\\n',\n",
    "      classification_report(y_test, dc_pred))"
   ]
  },
  {
   "cell_type": "markdown",
   "id": "d85e7895",
   "metadata": {},
   "source": [
    "<b> Inference : </b> The Accuracy score is 89,1%"
   ]
  },
  {
   "cell_type": "markdown",
   "id": "df20046d",
   "metadata": {},
   "source": [
    "<b> Naive Bayes </b>"
   ]
  },
  {
   "cell_type": "code",
   "execution_count": 24,
   "id": "5f479b56",
   "metadata": {},
   "outputs": [
    {
     "name": "stdout",
     "output_type": "stream",
     "text": [
      "Accuracy: 0.9166666666666666\n",
      "Model's accuracy:  0.9166666666666666 \n",
      "\n",
      "Mean Squared Error:  0.08333333333333333 \n",
      "\n",
      "Root Mean Squared Error:  0.28867513459481287 \n",
      "\n",
      "Confusion Matrix: \n",
      " [[74  6]\n",
      " [ 4 36]] \n",
      "\n",
      "Classification Report: \n",
      "               precision    recall  f1-score   support\n",
      "\n",
      "           0       0.95      0.93      0.94        80\n",
      "           1       0.86      0.90      0.88        40\n",
      "\n",
      "    accuracy                           0.92       120\n",
      "   macro avg       0.90      0.91      0.91       120\n",
      "weighted avg       0.92      0.92      0.92       120\n",
      "\n"
     ]
    }
   ],
   "source": [
    "#variable assignment\n",
    "nb_model = GaussianNB()\n",
    "\n",
    "#model fitting\n",
    "nb_model.fit(X_train,y_train)\n",
    "\n",
    "#model predict\n",
    "nb_pred = nb_model.predict(X_test)\n",
    "\n",
    "#model evaluation\n",
    "accuracy_nb = accuracy_score(y_test, nb_pred)\n",
    "print(\"Accuracy:\", accuracy_nb)\n",
    "mse_nb = mean_squared_error(y_test, nb_pred)\n",
    "rmse_nb = math.sqrt(mse_nb)\n",
    "print(\"Model's accuracy: \", accuracy_nb, '\\n')\n",
    "print(\"Mean Squared Error: \", mse_nb, '\\n')\n",
    "print(\"Root Mean Squared Error: \", rmse_nb,\n",
    "     '\\n')\n",
    "print(\"Confusion Matrix:\", '\\n',\n",
    "      confusion_matrix(y_test, nb_pred),\n",
    "      '\\n')\n",
    "print(\"Classification Report:\", '\\n',\n",
    "      classification_report(y_test, nb_pred))"
   ]
  },
  {
   "cell_type": "markdown",
   "id": "4b5ece0f",
   "metadata": {},
   "source": [
    "<b> Inference : </b> The Accuracy score is 91,6%"
   ]
  },
  {
   "cell_type": "markdown",
   "id": "2f154785",
   "metadata": {},
   "source": [
    "# DATA REPORT"
   ]
  },
  {
   "cell_type": "code",
   "execution_count": 25,
   "id": "92482aef",
   "metadata": {},
   "outputs": [
    {
     "name": "stdout",
     "output_type": "stream",
     "text": [
      "Accuracy of Logistic Regression:  0.6666666666666666\n",
      "Accuracy of K-Nearest Neighbors:  0.8\n",
      "Accuracy of Random Forest:  0.9166666666666666\n",
      "Accuracy of Support Vector Machine:  0.7833333333333333\n",
      "Accuracy of Decision Tree:  0.8833333333333333\n",
      "Accuracy of Naive Bayes:  0.9166666666666666\n"
     ]
    }
   ],
   "source": [
    "print('Accuracy of Logistic Regression: ', accuracy_logreg)\n",
    "print('Accuracy of K-Nearest Neighbors: ', accuracy_knn)\n",
    "print('Accuracy of Random Forest: ', accuracy_rf)\n",
    "print('Accuracy of Support Vector Machine: ', accuracy_svm)\n",
    "print('Accuracy of Decision Tree: ', accuracy_dc)\n",
    "print('Accuracy of Naive Bayes: ', accuracy_nb)"
   ]
  },
  {
   "cell_type": "markdown",
   "id": "d7ed4077",
   "metadata": {},
   "source": [
    "for predicting the purchased social network ads after trying some classifier, i will go with either Random Forest or Naive Bayes since those two have the highest accuracy."
   ]
  }
 ],
 "metadata": {
  "kernelspec": {
   "display_name": "Python 3",
   "language": "python",
   "name": "python3"
  },
  "language_info": {
   "codemirror_mode": {
    "name": "ipython",
    "version": 3
   },
   "file_extension": ".py",
   "mimetype": "text/x-python",
   "name": "python",
   "nbconvert_exporter": "python",
   "pygments_lexer": "ipython3",
   "version": "3.8.8"
  }
 },
 "nbformat": 4,
 "nbformat_minor": 5
}
